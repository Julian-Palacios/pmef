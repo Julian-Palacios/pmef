{
  "nbformat": 4,
  "nbformat_minor": 0,
  "metadata": {
    "colab": {
      "name": "01_Viga_Quad4.ipynb",
      "provenance": [],
      "include_colab_link": true
    },
    "kernelspec": {
      "name": "python3",
      "display_name": "Python 3"
    },
    "language_info": {
      "name": "python"
    }
  },
  "cells": [
    {
      "cell_type": "markdown",
      "metadata": {
        "id": "view-in-github",
        "colab_type": "text"
      },
      "source": [
        "<a href=\"https://colab.research.google.com/github/Julian-Palacios/PMEF/blob/main/01_Viga_Quad4.ipynb\" target=\"_parent\"><img src=\"https://colab.research.google.com/assets/colab-badge.svg\" alt=\"Open In Colab\"/></a>"
      ]
    },
    {
      "cell_type": "code",
      "execution_count": 1,
      "metadata": {
        "colab": {
          "base_uri": "https://localhost:8080/"
        },
        "id": "PECsITv9zM_0",
        "outputId": "3cf326a4-dfd7-4882-90cb-e7304ede8728"
      },
      "outputs": [
        {
          "output_type": "execute_result",
          "data": {
            "text/plain": [
              "('Lima66NS15-35_FF.txt', <http.client.HTTPMessage at 0x7f37ed980b90>)"
            ]
          },
          "metadata": {},
          "execution_count": 1
        }
      ],
      "source": [
        "import urllib.request \n",
        "urllib.request.urlretrieve(\"https://raw.githubusercontent.com/Julian-Palacios/PMEF/main/FEM_funciones_aux.py\", \"FEM_funciones_aux.py\")\n",
        "urllib.request.urlretrieve ('https://jpi-ingenieria.com/enrrique/Lima66NS15-35_FF.txt', 'Lima66NS15-35_FF.txt')"
      ]
    },
    {
      "cell_type": "code",
      "source": [
        "from FEM_funciones_aux import *\n",
        "import time\n",
        "from scipy.sparse.linalg import spsolve, eigsh\n",
        "import matplotlib.pyplot as plt\n",
        "from scipy.linalg import eigh"
      ],
      "metadata": {
        "id": "cGKVJQycqbAF"
      },
      "execution_count": 2,
      "outputs": []
    },
    {
      "cell_type": "code",
      "source": [
        "init_model()"
      ],
      "metadata": {
        "id": "001l8d5S68EE"
      },
      "execution_count": 3,
      "outputs": []
    },
    {
      "cell_type": "markdown",
      "source": [
        "<p>Se realizan las configuraciones iniciales del modelo que se analizará</p>"
      ],
      "metadata": {
        "id": "OmueVV4LuqX0"
      }
    },
    {
      "cell_type": "code",
      "source": [
        "ProblemData(SpaceDim=2, pde=\"Elasticity\")\n",
        "\n",
        "ElementData(elemDof=2,\n",
        "            elemNodes=4,\n",
        "            elemInt=4,\n",
        "            elemType=\"Quad4\",\n",
        "            massInt=4,\n",
        "            massMat='lumped')\n",
        "\n",
        "fc = 210 * kgf / cm**2\n",
        "E = 15000 * (fc / (kgf / cm**2))**0.5 * kgf / cm**2\n",
        "\n",
        "ModelData(E=E,\n",
        "          v=0.25,\n",
        "          thickness=0.5,\n",
        "          density=2400 * kg / m**3,\n",
        "          selfWeight=0.0,\n",
        "          gravity=[0.0, 0.0, -1])"
      ],
      "metadata": {
        "id": "wEHQOYwyqeM7"
      },
      "execution_count": 4,
      "outputs": []
    },
    {
      "cell_type": "markdown",
      "source": [
        "<p>Mediante la función GenQuadMesh_2D generamos definimos <mark>la longitud (L) en la dirección X</mark> y <mark>la altura (H) en la dirección Y</mark> del modelo, además indicamos la <mark>cantidad de elementos que tendrá en la dimensión más corta entre L y H</mark></p>"
      ],
      "metadata": {
        "id": "hrHakz9duxwJ"
      }
    },
    {
      "cell_type": "code",
      "source": [
        "L, H, lc = 1 * m, 1 * m, 4\n",
        "\n",
        "GenQuadMesh_2D(L, H, lc)"
      ],
      "metadata": {
        "id": "BNLsMg3HuI_O",
        "colab": {
          "base_uri": "https://localhost:8080/"
        },
        "outputId": "ac18c43d-842c-4264-f3c3-c76356039fd7"
      },
      "execution_count": 5,
      "outputs": [
        {
          "output_type": "stream",
          "name": "stdout",
          "text": [
            "================Mesh================\n",
            "nx = 4, dx = 0.25, ny = 4, dy = 0.25\n"
          ]
        }
      ]
    },
    {
      "cell_type": "markdown",
      "source": [
        "<p>Ploteamos una vista de la malla que se generó anteriormente con la función <mark>GenQuadMesh_2D</mark></p>"
      ],
      "metadata": {
        "id": "tM5QmTARu08F"
      }
    },
    {
      "cell_type": "code",
      "source": [
        "plot_model_mesh()"
      ],
      "metadata": {
        "colab": {
          "base_uri": "https://localhost:8080/",
          "height": 265
        },
        "id": "on59jUZquLaZ",
        "outputId": "21b1104d-76cd-4d86-c6c2-d1b3035fcdb7"
      },
      "execution_count": 6,
      "outputs": [
        {
          "output_type": "display_data",
          "data": {
            "image/png": "[encoded data removed]",
            "text/plain": [
              "<Figure size 432x288 with 1 Axes>"
            ]
          },
          "metadata": {
            "needs_background": "light"
          }
        }
      ]
    },
    {
      "cell_type": "code",
      "source": [
        "DC_nodes(dir='x', dist=0, dof=(1, 2), lim=0.001)\n",
        "NC_node(xyz=(L, H), force=10 * tonf, dof=[1], lim=0.001)"
      ],
      "metadata": {
        "id": "It1j6UY9qfEz",
        "outputId": "9d9ecc0e-5551-41a7-e35d-862f3c833273",
        "colab": {
          "base_uri": "https://localhost:8080/"
        }
      },
      "execution_count": 7,
      "outputs": [
        {
          "output_type": "stream",
          "name": "stdout",
          "text": [
            "[[0 1 1 0]\n",
            " [1 1 1 0]\n",
            " [2 1 1 0]\n",
            " [3 1 1 0]\n",
            " [4 1 1 0]\n",
            " [0 1 2 0]\n",
            " [1 1 2 0]\n",
            " [2 1 2 0]\n",
            " [3 1 2 0]\n",
            " [4 1 2 0]]\n",
            "[[2.40000e+01 0.00000e+00 1.00000e+00 9.80665e+04]]\n"
          ]
        }
      ]
    },
    {
      "cell_type": "markdown",
      "source": [
        "<p> Se ensamblan las matrices de <mark>rigidez y masa</mark>, así mismo se genera el vector de fuerzas</p>"
      ],
      "metadata": {
        "id": "Q4tCBizqrAUB"
      }
    },
    {
      "cell_type": "code",
      "source": [
        "AssembleMatrix('MatrixK')\n",
        "AssembleMatrix('ConcentratedMass')\n",
        "AssembleVector()"
      ],
      "metadata": {
        "id": "u7_xFyYQqe6f",
        "outputId": "7cfa287b-f561-4244-d0d0-afd8495780a6",
        "colab": {
          "base_uri": "https://localhost:8080/"
        }
      },
      "execution_count": 8,
      "outputs": [
        {
          "output_type": "stream",
          "name": "stdout",
          "text": [
            "Matriz K calculada\n",
            "Matriz M calculada\n"
          ]
        }
      ]
    },
    {
      "cell_type": "markdown",
      "source": [
        "<p>Se aplican las condiciones de borde,  <mark>Dirichlet</mark> (desplazamientos) y <mark>Neumann</mark> (fuerzas)."
      ],
      "metadata": {
        "id": "CmoPiJdgwBKU"
      }
    },
    {
      "cell_type": "code",
      "source": [
        "ApplyBC()"
      ],
      "metadata": {
        "colab": {
          "base_uri": "https://localhost:8080/"
        },
        "id": "8xzSZVbjtgXk",
        "outputId": "2fe41d1b-d3a0-45b7-b3e1-be4b07c8660b"
      },
      "execution_count": 9,
      "outputs": [
        {
          "output_type": "stream",
          "name": "stdout",
          "text": [
            "elem_dof 2\n",
            "[[0.00000e+00 1.00000e+00 1.00000e+00 0.00000e+00]\n",
            " [0.00000e+00 1.00000e+00 2.00000e+00 0.00000e+00]\n",
            " [1.00000e+00 1.00000e+00 1.00000e+00 0.00000e+00]\n",
            " [1.00000e+00 1.00000e+00 2.00000e+00 0.00000e+00]\n",
            " [2.00000e+00 1.00000e+00 1.00000e+00 0.00000e+00]\n",
            " [2.00000e+00 1.00000e+00 2.00000e+00 0.00000e+00]\n",
            " [3.00000e+00 1.00000e+00 1.00000e+00 0.00000e+00]\n",
            " [3.00000e+00 1.00000e+00 2.00000e+00 0.00000e+00]\n",
            " [4.00000e+00 1.00000e+00 1.00000e+00 0.00000e+00]\n",
            " [4.00000e+00 1.00000e+00 2.00000e+00 0.00000e+00]\n",
            " [2.40000e+01 0.00000e+00 1.00000e+00 9.80665e+04]]\n",
            "CB Dirichlet, DOF: 0\n",
            "CB Dirichlet, DOF: 1\n",
            "CB Dirichlet, DOF: 2\n",
            "CB Dirichlet, DOF: 3\n",
            "CB Dirichlet, DOF: 4\n",
            "CB Dirichlet, DOF: 5\n",
            "CB Dirichlet, DOF: 6\n",
            "CB Dirichlet, DOF: 7\n",
            "CB Dirichlet, DOF: 8\n",
            "CB Dirichlet, DOF: 9\n",
            "CB Neumann, DOF: 48\n"
          ]
        }
      ]
    },
    {
      "cell_type": "markdown",
      "source": [
        "<p>Se realiza el análisis Estático con la función <mark>Analysis()</mark>."
      ],
      "metadata": {
        "id": "Eppr-NiArQpY"
      }
    },
    {
      "cell_type": "code",
      "source": [
        "Analysis() # Analyse"
      ],
      "metadata": {
        "id": "R-yAmQ48tjBD"
      },
      "execution_count": 10,
      "outputs": []
    },
    {
      "cell_type": "markdown",
      "source": [
        "<p>Se plotea la deformada de la estructura y se indica a traves a traves de la barra de colores el desplazamiento en cada uno de sus nodos en la <mark>dirección X</mark> </p>"
      ],
      "metadata": {
        "id": "ZCTvzknZw-iU"
      }
    },
    {
      "cell_type": "code",
      "source": [
        "plot_model_deform(dir='x', FS=100)"
      ],
      "metadata": {
        "colab": {
          "base_uri": "https://localhost:8080/",
          "height": 263
        },
        "id": "IYgAijJDtkxp",
        "outputId": "9e406856-6a8a-4c5a-d995-802d0d444417"
      },
      "execution_count": 11,
      "outputs": [
        {
          "output_type": "display_data",
          "data": {
            "image/png": "[encoded data removed]",
            "text/plain": [
              "<Figure size 432x288 with 2 Axes>"
            ]
          },
          "metadata": {
            "needs_background": "light"
          }
        }
      ]
    },
    {
      "cell_type": "markdown",
      "source": [
        "<p>Se plotea la deformada de la estructura y se indica a traves a traves de la barra de colores el desplazamiento en cada uno de sus nodos en la <mark>dirección Y</mark> </p>"
      ],
      "metadata": {
        "id": "dUIAqwb5xmeJ"
      }
    },
    {
      "cell_type": "code",
      "source": [
        "plot_model_deform(dir='y', FS=100)"
      ],
      "metadata": {
        "id": "rRcqyHZG5ntW",
        "outputId": "3325238e-2de1-476a-cdb9-5db9859b52b9",
        "colab": {
          "base_uri": "https://localhost:8080/",
          "height": 263
        }
      },
      "execution_count": 12,
      "outputs": [
        {
          "output_type": "display_data",
          "data": {
            "image/png": "[encoded data removed]",
            "text/plain": [
              "<Figure size 432x288 with 2 Axes>"
            ]
          },
          "metadata": {
            "needs_background": "light"
          }
        }
      ]
    },
    {
      "cell_type": "code",
      "source": [
        "Reduc_Matrix()"
      ],
      "metadata": {
        "id": "v3EZKX4R5t15"
      },
      "execution_count": 13,
      "outputs": []
    },
    {
      "cell_type": "code",
      "source": [
        "Modal_Analysis()"
      ],
      "metadata": {
        "id": "brOa8XzT50gd"
      },
      "execution_count": 14,
      "outputs": []
    },
    {
      "cell_type": "code",
      "source": [
        "plot_modes(mode=3, FS=50)"
      ],
      "metadata": {
        "id": "H-VtB8gS53nv",
        "outputId": "22c425ba-4b11-43c8-df00-87ca9cee6d87",
        "colab": {
          "base_uri": "https://localhost:8080/",
          "height": 263
        }
      },
      "execution_count": 15,
      "outputs": [
        {
          "output_type": "display_data",
          "data": {
            "image/png": "[encoded data removed]",
            "text/plain": [
              "<Figure size 432x288 with 2 Axes>"
            ]
          },
          "metadata": {
            "needs_background": "light"
          }
        }
      ]
    },
    {
      "cell_type": "code",
      "source": [
        "AssemblyDamping()"
      ],
      "metadata": {
        "id": "FBm704vO53dC",
        "outputId": "72f40cf3-0bf1-46cc-f256-62eee0996ee7",
        "colab": {
          "base_uri": "https://localhost:8080/"
        }
      },
      "execution_count": 16,
      "outputs": [
        {
          "output_type": "stream",
          "name": "stdout",
          "text": [
            "\n",
            "w0,w20:1989.928263608607,16518.848139217116\n",
            "α,β=4605.803589943894,5.248277498787211e-06\n"
          ]
        }
      ]
    },
    {
      "cell_type": "code",
      "source": [
        "ug = np.genfromtxt(\"Lima66NS15-35_FF.txt\") / 100\n",
        "dt = 0.02"
      ],
      "metadata": {
        "id": "b61olkQe53O7"
      },
      "execution_count": 17,
      "outputs": []
    },
    {
      "cell_type": "code",
      "source": [
        "MDOF_LTH(ug, dt)"
      ],
      "metadata": {
        "id": "fyIAQanR5zq9",
        "outputId": "a990becf-fbaa-415e-be5a-0715c2e58dd5",
        "colab": {
          "base_uri": "https://localhost:8080/"
        }
      },
      "execution_count": 18,
      "outputs": [
        {
          "output_type": "stream",
          "name": "stdout",
          "text": [
            "Paso:\t100\n",
            "Tiempo:\t2.0(s)\n",
            "Paso:\t200\n",
            "Tiempo:\t4.0(s)\n",
            "Paso:\t300\n",
            "Tiempo:\t6.0(s)\n",
            "Paso:\t400\n",
            "Tiempo:\t8.0(s)\n",
            "Paso:\t500\n",
            "Tiempo:\t10.0(s)\n",
            "Paso:\t600\n",
            "Tiempo:\t12.0(s)\n",
            "Paso:\t700\n",
            "Tiempo:\t14.0(s)\n",
            "Paso:\t800\n",
            "Tiempo:\t16.0(s)\n",
            "Paso:\t900\n",
            "Tiempo:\t18.0(s)\n"
          ]
        }
      ]
    },
    {
      "cell_type": "code",
      "source": [
        "dinamic_plot(FS=10000)"
      ],
      "metadata": {
        "id": "09Tc9CJG6C3g",
        "outputId": "a64931f1-1125-401a-a84e-f445f931163f",
        "colab": {
          "base_uri": "https://localhost:8080/",
          "height": 596
        }
      },
      "execution_count": 19,
      "outputs": [
        {
          "output_type": "display_data",
          "data": {
            "image/png": "[encoded data removed]",
            "text/plain": [
              "<Figure size 216x720 with 1 Axes>"
            ]
          },
          "metadata": {
            "needs_background": "light"
          }
        }
      ]
    }
  ]
}