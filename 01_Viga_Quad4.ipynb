{
  "nbformat": 4,
  "nbformat_minor": 0,
  "metadata": {
    "colab": {
      "name": "01_Viga_Quad4.ipynb",
      "provenance": [],
      "authorship_tag": "ABX9TyP5QzwFipWt+vr3FG3eCOHj",
      "include_colab_link": true
    },
    "kernelspec": {
      "name": "python3",
      "display_name": "Python 3"
    },
    "language_info": {
      "name": "python"
    }
  },
  "cells": [
    {
      "cell_type": "markdown",
      "metadata": {
        "id": "view-in-github",
        "colab_type": "text"
      },
      "source": [
        "<a href=\"https://colab.research.google.com/github/Julian-Palacios/PMEF/blob/main/01_Viga_Quad4.ipynb\" target=\"_parent\"><img src=\"https://colab.research.google.com/assets/colab-badge.svg\" alt=\"Open In Colab\"/></a>"
      ]
    },
    {
      "cell_type": "code",
      "execution_count": 1,
      "metadata": {
        "colab": {
          "base_uri": "https://localhost:8080/"
        },
        "id": "PECsITv9zM_0",
        "outputId": "6a75b802-ec00-4c62-a1d6-44a28241bfa0"
      },
      "outputs": [
        {
          "output_type": "execute_result",
          "data": {
            "text/plain": [
              "('FEM_funciones.py', <http.client.HTTPMessage at 0x7f22bffb68d0>)"
            ]
          },
          "metadata": {},
          "execution_count": 1
        }
      ],
      "source": [
        "import urllib.request \n",
        "urllib.request.urlretrieve(\"https://raw.githubusercontent.com/Julian-Palacios/PMEF/main/FEM_funciones.py\", \"FEM_funciones.py\")"
      ]
    }
  ]
}