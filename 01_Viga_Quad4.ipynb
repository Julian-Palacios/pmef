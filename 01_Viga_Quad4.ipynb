{
  "nbformat": 4,
  "nbformat_minor": 0,
  "metadata": {
    "colab": {
      "name": "01_Viga_Quad4.ipynb",
      "provenance": [],
      "authorship_tag": "ABX9TyPrrVepRnjfIFAT3HyVGBgz",
      "include_colab_link": true
    },
    "kernelspec": {
      "name": "python3",
      "display_name": "Python 3"
    },
    "language_info": {
      "name": "python"
    }
  },
  "cells": [
    {
      "cell_type": "markdown",
      "metadata": {
        "id": "view-in-github",
        "colab_type": "text"
      },
      "source": [
        "<a href=\"https://colab.research.google.com/github/Julian-Palacios/PMEF/blob/main/01_Viga_Quad4.ipynb\" target=\"_parent\"><img src=\"https://colab.research.google.com/assets/colab-badge.svg\" alt=\"Open In Colab\"/></a>"
      ]
    },
    {
      "cell_type": "code",
      "execution_count": 1,
      "metadata": {
        "colab": {
          "base_uri": "https://localhost:8080/"
        },
        "id": "PECsITv9zM_0",
        "outputId": "6bfd139e-b7be-4b0f-c890-756bc89af79e"
      },
      "outputs": [
        {
          "output_type": "execute_result",
          "data": {
            "text/plain": [
              "('FEM_funciones_aux.py', <http.client.HTTPMessage at 0x7f557b7bf590>)"
            ]
          },
          "metadata": {},
          "execution_count": 1
        }
      ],
      "source": [
        "import urllib.request \n",
        "urllib.request.urlretrieve(\"https://raw.githubusercontent.com/Julian-Palacios/PMEF/main/FEM_funciones_aux.py\", \"FEM_funciones_aux.py\")"
      ]
    },
    {
      "cell_type": "code",
      "source": [
        "from FEM_funciones_aux import *\n",
        "# from DIN_funciones import *\n",
        "import time\n",
        "from scipy.sparse.linalg import spsolve, eigsh\n",
        "import matplotlib.pyplot as plt\n",
        "from scipy.linalg import eigh"
      ],
      "metadata": {
        "id": "cGKVJQycqbAF"
      },
      "execution_count": 2,
      "outputs": []
    },
    {
      "cell_type": "markdown",
      "source": [
        "Configuraciones Iniciales"
      ],
      "metadata": {
        "id": "OmueVV4LuqX0"
      }
    },
    {
      "cell_type": "code",
      "source": [
        "# ProblemData (SpaceDim, 'pde')\n",
        "ProblemData(2, \"Elasticidad\")\n",
        "\n",
        "# ElementData (dof, nodes, noInt, 'type')\n",
        "ElementData(2, 4, 4, \"Quad4\")\n",
        "\n",
        "# MassData(dof, nodes, noInt, 'type')\n",
        "MassData(2, 4, 4, \"Quad4\")\n",
        "\n",
        "fc = 210*kgf/cm**2\n",
        "E = 15000*(fc*kgf/cm**2)**0.5\n",
        "# ModelData(E, v, thickness, density, selfWeight, gravity)\n",
        "ModelData(E, 0.25, 0.5, 2400*kg/m**3, 0.0, np.array([0.0,-1.0,0.0]))"
      ],
      "metadata": {
        "id": "wEHQOYwyqeM7"
      },
      "execution_count": 3,
      "outputs": []
    },
    {
      "cell_type": "markdown",
      "source": [
        "Definimos nuestro modelo"
      ],
      "metadata": {
        "id": "hrHakz9duxwJ"
      }
    },
    {
      "cell_type": "code",
      "source": [
        "L, H, lc = 0.5*m, 10*m, 2\n",
        "#\n",
        "GenQuadMesh_2D(L,H,lc)"
      ],
      "metadata": {
        "id": "BNLsMg3HuI_O"
      },
      "execution_count": 4,
      "outputs": []
    },
    {
      "cell_type": "markdown",
      "source": [
        "Malla del modelo definido"
      ],
      "metadata": {
        "id": "tM5QmTARu08F"
      }
    },
    {
      "cell_type": "code",
      "source": [
        "plot_model_mesh()"
      ],
      "metadata": {
        "id": "on59jUZquLaZ",
        "outputId": "8296f6fe-2b3a-4d8e-fafe-0ddc547668c9",
        "colab": {
          "base_uri": "https://localhost:8080/",
          "height": 265
        }
      },
      "execution_count": 5,
      "outputs": [
        {
          "output_type": "display_data",
          "data": {
            "image/png": "[encoded data removed]",
            "text/plain": [
              "<Figure size 432x288 with 1 Axes>"
            ]
          },
          "metadata": {
            "needs_background": "light"
          }
        }
      ]
    },
    {
      "cell_type": "code",
      "source": [
        "BC_coord=np.array([[0.0,0.0,1,1,0.0],\n",
        "                     [0.0,0.0,1,2,0.0],\n",
        "                     [0.0,0.5,1,1,0.0],\n",
        "                     [0.0,0.5,1,2,0.0],\n",
        "                     [0.5,10,0,2,1e5]])\n",
        "##\n",
        "BC_data = genBC_2D(BC_coord, lim=0.001)"
      ],
      "metadata": {
        "id": "It1j6UY9qfEz"
      },
      "execution_count": 6,
      "outputs": []
    },
    {
      "cell_type": "markdown",
      "source": [
        "Inicia el procedimiento para la solución de FE"
      ],
      "metadata": {
        "id": "Q4tCBizqrAUB"
      }
    },
    {
      "cell_type": "code",
      "source": [
        "K = AssembleMatrix('MatrizK')\n",
        "M = AssembleMatrix('MasaConcentrada')\n",
        "f = AssembleVector( \"VectorF\")\n",
        "[K, f] = ApplyBC(K, f, BC_data)"
      ],
      "metadata": {
        "id": "u7_xFyYQqe6f",
        "outputId": "682cb770-e496-4fc7-cf04-dd9c28d9c860",
        "colab": {
          "base_uri": "https://localhost:8080/"
        }
      },
      "execution_count": 7,
      "outputs": [
        {
          "output_type": "stream",
          "name": "stdout",
          "text": [
            "Dirichlet, DOF: 0\n",
            "Dirichlet, DOF: 1\n",
            "Dirichlet, DOF: 12\n",
            "Dirichlet, DOF: 13\n",
            "Neumann, DOF: 245\n"
          ]
        }
      ]
    },
    {
      "cell_type": "markdown",
      "source": [
        "Resolviendo Problema Estático"
      ],
      "metadata": {
        "id": "Eppr-NiArQpY"
      }
    },
    {
      "cell_type": "code",
      "source": [
        "u =spsolve(K.tocsr(),f)\n",
        "gdl_x=int((BC_data[-1,0]-1)*2+1)\n",
        "\n",
        "print(\"Desplazamiento en (B,H)=\",u[gdl_x])"
      ],
      "metadata": {
        "id": "ruaLP6MErNNK",
        "outputId": "d68b7699-25ed-4da7-be62-1c8517d0a524",
        "colab": {
          "base_uri": "https://localhost:8080/"
        }
      },
      "execution_count": 8,
      "outputs": [
        {
          "output_type": "stream",
          "name": "stdout",
          "text": [
            "Desplazamiento en (B,H)= 0.0007196652141949278\n"
          ]
        }
      ]
    }
  ]
}