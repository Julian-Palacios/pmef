{
  "nbformat": 4,
  "nbformat_minor": 0,
  "metadata": {
    "colab": {
      "name": "01_Viga_Quad4.ipynb",
      "provenance": [],
      "authorship_tag": "ABX9TyMphpX0s4NWzQET+QNLn1+9",
      "include_colab_link": true
    },
    "kernelspec": {
      "name": "python3",
      "display_name": "Python 3"
    },
    "language_info": {
      "name": "python"
    }
  },
  "cells": [
    {
      "cell_type": "markdown",
      "metadata": {
        "id": "view-in-github",
        "colab_type": "text"
      },
      "source": [
        "<a href=\"https://colab.research.google.com/github/Julian-Palacios/PMEF/blob/main/01_Viga_Quad4.ipynb\" target=\"_parent\"><img src=\"https://colab.research.google.com/assets/colab-badge.svg\" alt=\"Open In Colab\"/></a>"
      ]
    },
    {
      "cell_type": "code",
      "execution_count": 1,
      "metadata": {
        "colab": {
          "base_uri": "https://localhost:8080/"
        },
        "id": "PECsITv9zM_0",
        "outputId": "65575cf0-7f5d-4c5a-cfa9-54219f52dd58"
      },
      "outputs": [
        {
          "output_type": "execute_result",
          "data": {
            "text/plain": [
              "('FEM_funciones_aux.py', <http.client.HTTPMessage at 0x7f9dc995e990>)"
            ]
          },
          "metadata": {},
          "execution_count": 1
        }
      ],
      "source": [
        "import urllib.request \n",
        "urllib.request.urlretrieve(\"https://raw.githubusercontent.com/Julian-Palacios/PMEF/main/FEM_funciones_aux.py\", \"FEM_funciones_aux.py\")"
      ]
    },
    {
      "cell_type": "code",
      "source": [
        "from FEM_funciones_aux import *\n",
        "# from DIN_funciones import *\n",
        "import time\n",
        "from scipy.sparse.linalg import spsolve, eigsh\n",
        "import matplotlib.pyplot as plt\n",
        "from scipy.linalg import eigh"
      ],
      "metadata": {
        "id": "cGKVJQycqbAF"
      },
      "execution_count": 2,
      "outputs": []
    },
    {
      "cell_type": "markdown",
      "source": [
        "<p>Se realizan las configuraciones iniciales del modelo que se analizará</p>"
      ],
      "metadata": {
        "id": "OmueVV4LuqX0"
      }
    },
    {
      "cell_type": "code",
      "source": [
        "# ProblemData (SpaceDim, 'pde')\n",
        "ProblemData(2, \"Elasticidad\")\n",
        "\n",
        "# ElementData (dof, nodes, noInt, 'type')\n",
        "ElementData(2, 4, 4, \"Quad4\")\n",
        "\n",
        "# MassData(dof, nodes, noInt, 'type')\n",
        "MassData(2, 4, 4, \"Quad4\")\n",
        "\n",
        "fc = 210*kgf/cm**2\n",
        "E = 15000*(fc*kgf/cm**2)**0.5\n",
        "# ModelData(E, v, thickness, density, selfWeight, gravity)\n",
        "ModelData(E, 0.25, 0.5, 2400*kg/m**3, 0.0, np.array([0.0,-1.0,0.0]))"
      ],
      "metadata": {
        "id": "wEHQOYwyqeM7"
      },
      "execution_count": 3,
      "outputs": []
    },
    {
      "cell_type": "markdown",
      "source": [
        "<p>Mediante la función GenQuadMesh_2D generamos definimos <mark>la longitud (L) en la dirección X</mark> y <mark>la altura (H) en la dirección Y</mark> del modelo, además indicamos la <mark>cantidad de elementos que tendrá en la dimensión más corta entre L y H</mark></p>"
      ],
      "metadata": {
        "id": "hrHakz9duxwJ"
      }
    },
    {
      "cell_type": "code",
      "source": [
        "L, H, lc = 2*m, 10*m, 2\n",
        "#\n",
        "GenQuadMesh_2D(L,H,lc)"
      ],
      "metadata": {
        "id": "BNLsMg3HuI_O",
        "outputId": "b78d8f44-4c40-455c-a2e1-97c385ce630c",
        "colab": {
          "base_uri": "https://localhost:8080/"
        }
      },
      "execution_count": 4,
      "outputs": [
        {
          "output_type": "stream",
          "name": "stdout",
          "text": [
            "nx = 2, ny = 10\n"
          ]
        }
      ]
    },
    {
      "cell_type": "markdown",
      "source": [
        "<p>Ploteamos una vista de la malla que se generó anteriormente con la función <mark>GenQuadMesh_2D</mark></p>"
      ],
      "metadata": {
        "id": "tM5QmTARu08F"
      }
    },
    {
      "cell_type": "code",
      "source": [
        "plot_model_mesh()"
      ],
      "metadata": {
        "colab": {
          "base_uri": "https://localhost:8080/",
          "height": 265
        },
        "id": "on59jUZquLaZ",
        "outputId": "7503b056-05d4-41b3-abb6-c7a662048fb2"
      },
      "execution_count": 5,
      "outputs": [
        {
          "output_type": "display_data",
          "data": {
            "image/png": "[encoded data removed]",
            "text/plain": [
              "<Figure size 432x288 with 1 Axes>"
            ]
          },
          "metadata": {
            "needs_background": "light"
          }
        }
      ]
    },
    {
      "cell_type": "code",
      "source": [
        "fix_nodes_rec('x', 0, [1, 2], 0.001)\n",
        "force_dist_rec('x', 5, 100 * tonf, [1], 0.001)"
      ],
      "metadata": {
        "id": "It1j6UY9qfEz",
        "outputId": "acd3c47e-b8d1-4b28-adc5-d876db630780",
        "colab": {
          "base_uri": "https://localhost:8080/"
        }
      },
      "execution_count": 6,
      "outputs": [
        {
          "output_type": "stream",
          "name": "stderr",
          "text": [
            "/content/FEM_funciones_aux.py:368: FutureWarning: arrays to stack must be passed as a \"sequence\" type such as list or tuple. Support for non-sequence iterables such as generators is deprecated as of NumPy 1.16 and will raise an error in the future.\n",
            "  vector = np.vstack((dic_vector.values()))\n"
          ]
        }
      ]
    },
    {
      "cell_type": "code",
      "source": [
        "genBC_2D(lim=0.001)"
      ],
      "metadata": {
        "id": "ywIo-BNDtbt5"
      },
      "execution_count": 7,
      "outputs": []
    },
    {
      "cell_type": "markdown",
      "source": [
        "<p> Se ensamblan las matrices de <mark>rigidez y masa</mark>, así mismo se genera el vector de fuerzas</p>"
      ],
      "metadata": {
        "id": "Q4tCBizqrAUB"
      }
    },
    {
      "cell_type": "code",
      "source": [
        "AssembleMatrix('MatrizK')\n",
        "AssembleMatrix('MasaConcentrada')\n",
        "AssembleVector(\"VectorF\")"
      ],
      "metadata": {
        "id": "u7_xFyYQqe6f"
      },
      "execution_count": 8,
      "outputs": []
    },
    {
      "cell_type": "markdown",
      "source": [
        "<p>Se aplican las condiciones de borde,  <mark>Dirichlet</mark> (desplazamientos) y <mark>Neumann</mark> (fuerzas)."
      ],
      "metadata": {
        "id": "CmoPiJdgwBKU"
      }
    },
    {
      "cell_type": "code",
      "source": [
        "ApplyBC()"
      ],
      "metadata": {
        "id": "8xzSZVbjtgXk",
        "outputId": "78174464-b931-4f9d-8ecf-b45ff774ec2b",
        "colab": {
          "base_uri": "https://localhost:8080/"
        }
      },
      "execution_count": 9,
      "outputs": [
        {
          "output_type": "stream",
          "name": "stdout",
          "text": [
            "Dirichlet, DOF: 0\n",
            "Dirichlet, DOF: 2\n",
            "Dirichlet, DOF: 4\n",
            "Dirichlet, DOF: 1\n",
            "Dirichlet, DOF: 3\n",
            "Dirichlet, DOF: 5\n",
            "Neumann, DOF: 30\n",
            "Neumann, DOF: 32\n",
            "Neumann, DOF: 34\n"
          ]
        }
      ]
    },
    {
      "cell_type": "markdown",
      "source": [
        "<p>Se realiza el análisis Estático con la función <mark>Analysis()</mark>."
      ],
      "metadata": {
        "id": "Eppr-NiArQpY"
      }
    },
    {
      "cell_type": "code",
      "source": [
        "Analysis()"
      ],
      "metadata": {
        "id": "R-yAmQ48tjBD"
      },
      "execution_count": 10,
      "outputs": []
    },
    {
      "cell_type": "markdown",
      "source": [
        "<p>Se plotea la deformada de la estructura y se indica a traves a traves de la barra de colores el desplazamiento en cada uno de sus nodos en la <mark>dirección X</mark> </p>"
      ],
      "metadata": {
        "id": "ZCTvzknZw-iU"
      }
    },
    {
      "cell_type": "code",
      "source": [
        "plot_model_deformada('x', 200)"
      ],
      "metadata": {
        "id": "IYgAijJDtkxp",
        "outputId": "a2a733b6-4b8d-4afb-e9e5-2213f8f2125a",
        "colab": {
          "base_uri": "https://localhost:8080/",
          "height": 280
        }
      },
      "execution_count": 11,
      "outputs": [
        {
          "output_type": "stream",
          "name": "stdout",
          "text": [
            "33\n"
          ]
        },
        {
          "output_type": "display_data",
          "data": {
            "image/png": "[encoded data removed]",
            "text/plain": [
              "<Figure size 432x288 with 2 Axes>"
            ]
          },
          "metadata": {
            "needs_background": "light"
          }
        }
      ]
    },
    {
      "cell_type": "markdown",
      "source": [
        "<p>Se plotea la deformada de la estructura y se indica a traves a traves de la barra de colores el desplazamiento en cada uno de sus nodos en la <mark>dirección Y</mark> </p>"
      ],
      "metadata": {
        "id": "dUIAqwb5xmeJ"
      }
    },
    {
      "cell_type": "code",
      "source": [
        "plot_model_deformada('y', 200)"
      ],
      "metadata": {
        "id": "MLaoXrBFxlfQ",
        "outputId": "32003091-3e8f-4cf3-f701-facd1c73fbf8",
        "colab": {
          "base_uri": "https://localhost:8080/",
          "height": 280
        }
      },
      "execution_count": 12,
      "outputs": [
        {
          "output_type": "stream",
          "name": "stdout",
          "text": [
            "33\n"
          ]
        },
        {
          "output_type": "display_data",
          "data": {
            "image/png": "[encoded data removed]",
            "text/plain": [
              "<Figure size 432x288 with 2 Axes>"
            ]
          },
          "metadata": {
            "needs_background": "light"
          }
        }
      ]
    }
  ]
}