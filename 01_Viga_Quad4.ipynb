{
  "nbformat": 4,
  "nbformat_minor": 0,
  "metadata": {
    "colab": {
      "name": "01_Viga_Quad4.ipynb",
      "provenance": [],
      "include_colab_link": true
    },
    "kernelspec": {
      "name": "python3",
      "display_name": "Python 3"
    },
    "language_info": {
      "name": "python"
    }
  },
  "cells": [
    {
      "cell_type": "markdown",
      "metadata": {
        "id": "view-in-github",
        "colab_type": "text"
      },
      "source": [
        "<a href=\"https://colab.research.google.com/github/Julian-Palacios/PMEF/blob/main/01_Viga_Quad4.ipynb\" target=\"_parent\"><img src=\"https://colab.research.google.com/assets/colab-badge.svg\" alt=\"Open In Colab\"/></a>"
      ]
    },
    {
      "cell_type": "code",
      "execution_count": null,
      "metadata": {
        "colab": {
          "base_uri": "https://localhost:8080/"
        },
        "id": "PECsITv9zM_0",
        "outputId": "bc4977b6-555c-4cc2-a547-295e17ea984e"
      },
      "outputs": [
        {
          "output_type": "execute_result",
          "data": {
            "text/plain": [
              "('FEM_funciones_aux.py', <http.client.HTTPMessage at 0x7f9d5a927810>)"
            ]
          },
          "metadata": {},
          "execution_count": 1
        }
      ],
      "source": [
        "import urllib.request \n",
        "urllib.request.urlretrieve(\"https://raw.githubusercontent.com/Julian-Palacios/PMEF/main/FEM_funciones_aux.py\", \"FEM_funciones_aux.py\")"
      ]
    },
    {
      "cell_type": "code",
      "source": [
        "from FEM_funciones_aux import *\n",
        "# from DIN_funciones import *\n",
        "import time\n",
        "from scipy.sparse.linalg import spsolve, eigsh\n",
        "import matplotlib.pyplot as plt\n",
        "from scipy.linalg import eigh"
      ],
      "metadata": {
        "id": "cGKVJQycqbAF"
      },
      "execution_count": null,
      "outputs": []
    },
    {
      "cell_type": "markdown",
      "source": [
        "<p>Se realizan las configuraciones iniciales del modelo que se analizará</p>"
      ],
      "metadata": {
        "id": "OmueVV4LuqX0"
      }
    },
    {
      "cell_type": "code",
      "source": [
        "# ProblemData (SpaceDim, 'pde')\n",
        "ProblemData(2, \"Elasticidad\")\n",
        "\n",
        "# ElementData (dof, nodes, noInt, 'type')\n",
        "ElementData(2, 4, 4, \"Quad4\")\n",
        "\n",
        "# MassData(dof, nodes, noInt, 'type')\n",
        "MassData(2, 4, 4, \"Quad4\")\n",
        "\n",
        "fc = 210*kgf/cm**2\n",
        "E = 15000*(fc*kgf/cm**2)**0.5\n",
        "# ModelData(E, v, thickness, density, selfWeight, gravity)\n",
        "ModelData(E, 0.25, 0.5, 2400*kg/m**3, 0.0, np.array([0.0,-1.0,0.0]))"
      ],
      "metadata": {
        "id": "wEHQOYwyqeM7"
      },
      "execution_count": null,
      "outputs": []
    },
    {
      "cell_type": "markdown",
      "source": [
        "<p>Mediante la función GenQuadMesh_2D generamos definimos <mark>la longitud (L) en la dirección X</mark> y <mark>la altura (H) en la dirección Y</mark> del modelo, además indicamos la <mark>cantidad de elementos que tendrá en la dimensión más corta entre L y H</mark></p>"
      ],
      "metadata": {
        "id": "hrHakz9duxwJ"
      }
    },
    {
      "cell_type": "code",
      "source": [
        "L, H, lc = 1*m, 5*m, 8\n",
        "#\n",
        "GenQuadMesh_2D(L,H,lc)"
      ],
      "metadata": {
        "id": "BNLsMg3HuI_O",
        "colab": {
          "base_uri": "https://localhost:8080/"
        },
        "outputId": "1939804e-77a1-4752-c602-032bd52bd9c2"
      },
      "execution_count": null,
      "outputs": [
        {
          "output_type": "stream",
          "name": "stdout",
          "text": [
            "nx = 8, ny = 40\n"
          ]
        }
      ]
    },
    {
      "cell_type": "markdown",
      "source": [
        "<p>Ploteamos una vista de la malla que se generó anteriormente con la función <mark>GenQuadMesh_2D</mark></p>"
      ],
      "metadata": {
        "id": "tM5QmTARu08F"
      }
    },
    {
      "cell_type": "code",
      "source": [
        "plot_model_mesh()"
      ],
      "metadata": {
        "colab": {
          "base_uri": "https://localhost:8080/",
          "height": 265
        },
        "id": "on59jUZquLaZ",
        "outputId": "cb37f1f7-ec9a-4eb3-b7b3-156a255a71a1"
      },
      "execution_count": null,
      "outputs": [
        {
          "output_type": "display_data",
          "data": {
            "image/png": "[encoded data removed]",
            "text/plain": [
              "<Figure size 432x288 with 1 Axes>"
            ]
          },
          "metadata": {
            "needs_background": "light"
          }
        }
      ]
    },
    {
      "cell_type": "code",
      "source": [
        "fix_nodes_rec('x', 0, [1, 2], 0.001)\n",
        "force_node(L, H, 50*tonf, [1], 0.001)"
      ],
      "metadata": {
        "id": "It1j6UY9qfEz"
      },
      "execution_count": null,
      "outputs": []
    },
    {
      "cell_type": "code",
      "source": [
        "genBC_2D(lim=0.001)"
      ],
      "metadata": {
        "id": "ywIo-BNDtbt5"
      },
      "execution_count": null,
      "outputs": []
    },
    {
      "cell_type": "markdown",
      "source": [
        "<p> Se ensamblan las matrices de <mark>rigidez y masa</mark>, así mismo se genera el vector de fuerzas</p>"
      ],
      "metadata": {
        "id": "Q4tCBizqrAUB"
      }
    },
    {
      "cell_type": "code",
      "source": [
        "AssembleMatrix('MatrizK')\n",
        "AssembleMatrix('MasaConcentrada')\n",
        "AssembleVector(\"VectorF\")"
      ],
      "metadata": {
        "id": "u7_xFyYQqe6f"
      },
      "execution_count": null,
      "outputs": []
    },
    {
      "cell_type": "markdown",
      "source": [
        "<p>Se aplican las condiciones de borde,  <mark>Dirichlet</mark> (desplazamientos) y <mark>Neumann</mark> (fuerzas)."
      ],
      "metadata": {
        "id": "CmoPiJdgwBKU"
      }
    },
    {
      "cell_type": "code",
      "source": [
        "ApplyBC()"
      ],
      "metadata": {
        "colab": {
          "base_uri": "https://localhost:8080/"
        },
        "id": "8xzSZVbjtgXk",
        "outputId": "60fa31cd-21d8-48fb-e14d-803257599c14"
      },
      "execution_count": null,
      "outputs": [
        {
          "output_type": "stream",
          "name": "stdout",
          "text": [
            "Dirichlet, DOF: 0\n",
            "Dirichlet, DOF: 2\n",
            "Dirichlet, DOF: 4\n",
            "Dirichlet, DOF: 6\n",
            "Dirichlet, DOF: 8\n",
            "Dirichlet, DOF: 10\n",
            "Dirichlet, DOF: 12\n",
            "Dirichlet, DOF: 14\n",
            "Dirichlet, DOF: 16\n",
            "Dirichlet, DOF: 1\n",
            "Dirichlet, DOF: 3\n",
            "Dirichlet, DOF: 5\n",
            "Dirichlet, DOF: 7\n",
            "Dirichlet, DOF: 9\n",
            "Dirichlet, DOF: 11\n",
            "Dirichlet, DOF: 13\n",
            "Dirichlet, DOF: 15\n",
            "Dirichlet, DOF: 17\n",
            "Neumann, DOF: 736\n"
          ]
        }
      ]
    },
    {
      "cell_type": "markdown",
      "source": [
        "<p>Se realiza el análisis Estático con la función <mark>Analysis()</mark>."
      ],
      "metadata": {
        "id": "Eppr-NiArQpY"
      }
    },
    {
      "cell_type": "code",
      "source": [
        "Analysis()"
      ],
      "metadata": {
        "id": "R-yAmQ48tjBD"
      },
      "execution_count": null,
      "outputs": []
    },
    {
      "cell_type": "markdown",
      "source": [
        "<p>Se plotea la deformada de la estructura y se indica a traves a traves de la barra de colores el desplazamiento en cada uno de sus nodos en la <mark>dirección X</mark> </p>"
      ],
      "metadata": {
        "id": "ZCTvzknZw-iU"
      }
    },
    {
      "cell_type": "code",
      "source": [
        "plot_model_deformada('x', 30)"
      ],
      "metadata": {
        "colab": {
          "base_uri": "https://localhost:8080/",
          "height": 280
        },
        "id": "IYgAijJDtkxp",
        "outputId": "10293c95-9dd7-491c-fa6f-c708e7c643a1"
      },
      "execution_count": null,
      "outputs": [
        {
          "output_type": "stream",
          "name": "stdout",
          "text": [
            "369\n"
          ]
        },
        {
          "output_type": "display_data",
          "data": {
            "image/png": "[encoded data removed]",
            "text/plain": [
              "<Figure size 432x288 with 2 Axes>"
            ]
          },
          "metadata": {
            "needs_background": "light"
          }
        }
      ]
    },
    {
      "cell_type": "markdown",
      "source": [
        "<p>Se plotea la deformada de la estructura y se indica a traves a traves de la barra de colores el desplazamiento en cada uno de sus nodos en la <mark>dirección Y</mark> </p>"
      ],
      "metadata": {
        "id": "dUIAqwb5xmeJ"
      }
    },
    {
      "cell_type": "code",
      "source": [
        "plot_model_deformada('y', 30)"
      ],
      "metadata": {
        "colab": {
          "base_uri": "https://localhost:8080/",
          "height": 280
        },
        "id": "MLaoXrBFxlfQ",
        "outputId": "292eaaf6-5efb-4ed1-9db0-94ca9f52c605"
      },
      "execution_count": null,
      "outputs": [
        {
          "output_type": "stream",
          "name": "stdout",
          "text": [
            "369\n"
          ]
        },
        {
          "output_type": "display_data",
          "data": {
            "image/png": "[encoded data removed]",
            "text/plain": [
              "<Figure size 432x288 with 2 Axes>"
            ]
          },
          "metadata": {
            "needs_background": "light"
          }
        }
      ]
    }
  ]
}