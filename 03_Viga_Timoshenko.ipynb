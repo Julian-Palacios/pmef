{
  "nbformat": 4,
  "nbformat_minor": 0,
  "metadata": {
    "colab": {
      "name": "03_Viga_Timoshenko.ipynb",
      "provenance": [],
      "authorship_tag": "ABX9TyMvwCFkYzGYKAVnSiIZqRRC",
      "include_colab_link": true
    },
    "kernelspec": {
      "name": "python3",
      "display_name": "Python 3"
    },
    "language_info": {
      "name": "python"
    }
  },
  "cells": [
    {
      "cell_type": "markdown",
      "metadata": {
        "id": "view-in-github",
        "colab_type": "text"
      },
      "source": [
        "<a href=\"https://colab.research.google.com/github/Julian-Palacios/PMEF/blob/main/03_Viga_Timoshenko.ipynb\" target=\"_parent\"><img src=\"https://colab.research.google.com/assets/colab-badge.svg\" alt=\"Open In Colab\"/></a>"
      ]
    },
    {
      "cell_type": "code",
      "source": [
        "import urllib.request \n",
        "urllib.request.urlretrieve(\"https://raw.githubusercontent.com/Julian-Palacios/PMEF/main/FEM_funciones_aux.py\", \"FEM_funciones_aux.py\")\n",
        "urllib.request.urlretrieve ('https://jpi-ingenieria.com/enrrique/Lima66NS15-35_FF.txt', 'Lima66NS15-35_FF.txt')"
      ],
      "metadata": {
        "id": "-rVJFB1qjYZx"
      },
      "execution_count": null,
      "outputs": []
    },
    {
      "cell_type": "code",
      "source": [
        "from FEM_funciones_aux import *"
      ],
      "metadata": {
        "id": "GEfyX0xGjSNV"
      },
      "execution_count": null,
      "outputs": []
    },
    {
      "cell_type": "code",
      "source": [
        "init_model()"
      ],
      "metadata": {
        "id": "XuAbEVlRjdQ_"
      },
      "execution_count": null,
      "outputs": []
    },
    {
      "cell_type": "code",
      "source": [
        "ProblemData(SpaceDim=1, pde=\"Timoshenko\")\n",
        "\n",
        "fy = 0 * kgf / cm**2\n",
        "bb = 0.5 * m\n",
        "bh = 0.5 * m\n",
        "\n",
        "ElementData(elemDof=2,\n",
        "            elemNodes=2,\n",
        "            elem_noInt=1,\n",
        "            bb=bb,\n",
        "            bh=bh,\n",
        "            fy=fy,\n",
        "            elemType=\"Bar1\",\n",
        "            mass_noInt=2)\n",
        "\n",
        "fc = 210 * kgf / cm**2\n",
        "# E = 15000 * (fc / (kgf / cm**2))**0.5 * kgf / cm**2\n",
        "# G = 10**9\n",
        "\n",
        "E, G = 25e9, 10e9\n",
        "GAs = G * 5 * bb * bh / 6.0\n",
        "ModelData(E=E, G=G, GAs=GAs, density=2400 * kg / m**3)"
      ],
      "metadata": {
        "id": "ZtOd5k4ijgwr"
      },
      "execution_count": null,
      "outputs": []
    },
    {
      "cell_type": "code",
      "source": [
        "L, N = 20 * m, 20\n",
        "\n",
        "GenLinearMesh(L, N)"
      ],
      "metadata": {
        "id": "Dqfa2ClSjrx7"
      },
      "execution_count": null,
      "outputs": []
    },
    {
      "cell_type": "code",
      "source": [
        "DC_node_beam(x=(0), dof=(1, 2), lim=0.001)\n",
        "NC_node_beam(x=(10), force=1 * kgf, dof=[2], lim=0.001)"
      ],
      "metadata": {
        "id": "NA-B8dWjjwUm"
      },
      "execution_count": null,
      "outputs": []
    },
    {
      "cell_type": "code",
      "source": [
        "AssembleMatrix('MatrixK')\n",
        "AssembleMatrix('ConsistentMass')\n",
        "AssembleVector()"
      ],
      "metadata": {
        "id": "aQ5D910Qjydb"
      },
      "execution_count": null,
      "outputs": []
    },
    {
      "cell_type": "code",
      "source": [
        "ApplyBC()"
      ],
      "metadata": {
        "id": "kRsHjcwfjz7a"
      },
      "execution_count": null,
      "outputs": []
    },
    {
      "cell_type": "code",
      "source": [
        "Analysis()"
      ],
      "metadata": {
        "id": "8bH18CzBj1pF"
      },
      "execution_count": null,
      "outputs": []
    },
    {
      "cell_type": "code",
      "source": [
        "plt_model_deform_1D(FS=1)"
      ],
      "metadata": {
        "id": "LPxhdnqej4D5"
      },
      "execution_count": null,
      "outputs": []
    },
    {
      "cell_type": "code",
      "source": [
        "Modal_Analysis()"
      ],
      "metadata": {
        "id": "n5-LNyZ0j4_T"
      },
      "execution_count": null,
      "outputs": []
    },
    {
      "cell_type": "code",
      "source": [
        "plt_modes_1D(mode=1, FS=2)"
      ],
      "metadata": {
        "id": "oE3Gp282j70e"
      },
      "execution_count": null,
      "outputs": []
    },
    {
      "cell_type": "code",
      "source": [
        "ug = np.genfromtxt(\"./INPUT/Lima66NS.txt\") / 100  # de cm/s2 a m/s2\n",
        "dt = 0.02"
      ],
      "metadata": {
        "id": "2hza9gk5j_wp"
      },
      "execution_count": null,
      "outputs": []
    },
    {
      "cell_type": "code",
      "source": [
        "AssemblyDamping()"
      ],
      "metadata": {
        "id": "Ue6jgW4BkAzn"
      },
      "execution_count": null,
      "outputs": []
    },
    {
      "cell_type": "code",
      "execution_count": null,
      "metadata": {
        "id": "Tw-2Jxb5jBuH"
      },
      "outputs": [],
      "source": [
        "MDOF_LTH(ug, dt, gdl=2)"
      ]
    },
    {
      "cell_type": "code",
      "source": [
        "dinamic_plot_1D(label='Timoshenko', FS=1000)"
      ],
      "metadata": {
        "id": "fa7HLRP-kDF2"
      },
      "execution_count": null,
      "outputs": []
    }
  ]
}